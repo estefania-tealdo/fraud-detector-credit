{
 "cells": [
  {
   "cell_type": "markdown",
   "source": [
    "# Credit Fraud Detector"
   ],
   "metadata": {}
  },
  {
   "cell_type": "markdown",
   "source": [
    "Remember to never use **accuracy score** as a metric with imbalanced dataset such as this one, instead use **F1-score, precision/recall score or confusion matrix**"
   ],
   "metadata": {}
  },
  {
   "cell_type": "markdown",
   "source": [
    "# 1. Gather Sense of Our Data\r\n",
    "- Because of privacy reasons, we dont have the name of the columns but we know the unknown columns are already scaled.\r\n",
    "- Fraud ocurrs in 0.17% of the transaccions and No-Fraud in the 99.87% left\r\n",
    "- There are no Null vals "
   ],
   "metadata": {}
  },
  {
   "cell_type": "markdown",
   "source": [
    "### Feature Technicalities: \r\n",
    "**PCA:** The description of the data states that all the features (but time and amount of transaction) went thru a PCA transformation.\r\n",
    "**Scaling:** Before PCA all the features had to be scaled."
   ],
   "metadata": {}
  },
  {
   "cell_type": "code",
   "execution_count": 2,
   "source": [
    "import numpy as np\r\n",
    "import pandas as pd\r\n",
    "import tensorflow as tf\r\n",
    "import matplotlib.pyplot as plt\r\n",
    "import seaborn as sns\r\n",
    "\r\n",
    "from sklearn.manifold import TSNE #To be checked\r\n",
    "from sklearn.decomposition import PCA, TruncatedSVD\r\n",
    "import matplotlib.patches as mpatches\r\n",
    "import time\r\n"
   ],
   "outputs": [],
   "metadata": {}
  }
 ],
 "metadata": {
  "orig_nbformat": 4,
  "language_info": {
   "name": "python",
   "version": "3.9.7",
   "mimetype": "text/x-python",
   "codemirror_mode": {
    "name": "ipython",
    "version": 3
   },
   "pygments_lexer": "ipython3",
   "nbconvert_exporter": "python",
   "file_extension": ".py"
  },
  "kernelspec": {
   "name": "python3",
   "display_name": "Python 3.9.7 64-bit (conda)"
  },
  "interpreter": {
   "hash": "f6eb2cc7f68303409d7b30f3b613569793593c7dda44c9bbac952f88eb72e04b"
  }
 },
 "nbformat": 4,
 "nbformat_minor": 2
}